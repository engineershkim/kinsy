{
 "cells": [
  {
   "cell_type": "code",
   "execution_count": 3,
   "id": "d230a8b6-f075-45a5-8c5d-cfe433db6ac4",
   "metadata": {},
   "outputs": [
    {
     "ename": "ModuleNotFoundError",
     "evalue": "No module named 'geocoder'",
     "output_type": "error",
     "traceback": [
      "\u001b[1;31m---------------------------------------------------------------------------\u001b[0m",
      "\u001b[1;31mModuleNotFoundError\u001b[0m                       Traceback (most recent call last)",
      "Cell \u001b[1;32mIn[3], line 8\u001b[0m\n\u001b[0;32m      6\u001b[0m \u001b[38;5;28;01mimport\u001b[39;00m \u001b[38;5;21;01mtime\u001b[39;00m\n\u001b[0;32m      7\u001b[0m \u001b[38;5;28;01mimport\u001b[39;00m \u001b[38;5;21;01mwebbrowser\u001b[39;00m\n\u001b[1;32m----> 8\u001b[0m \u001b[38;5;28;01mimport\u001b[39;00m \u001b[38;5;21;01mgeocoder\u001b[39;00m\n",
      "\u001b[1;31mModuleNotFoundError\u001b[0m: No module named 'geocoder'"
     ]
    }
   ],
   "source": [
    "import scipy\n",
    "import requests\n",
    "import json\n",
    "import turtle\n",
    "import urllib.request\n",
    "import time\n",
    "import webbrowser\n",
    "import geocoder"
   ]
  },
  {
   "cell_type": "code",
   "execution_count": null,
   "id": "d8136770-c99d-4314-85e3-91457ebf0234",
   "metadata": {},
   "outputs": [],
   "source": [
    "#request status codes\n",
    "#200 OK\n",
    "#201 Created\n",
    "#204 No Content\n",
    "#300 Multiple Choices\n",
    "#302 FOund(Temporary Redirect)\n",
    "#304 Not Modified\n",
    "#400 Bad Request\n",
    "#401 Unauthorized\n",
    "#500 Internal Server Error\n",
    "#502 Bad Gateway"
   ]
  },
  {
   "cell_type": "code",
   "execution_count": 4,
   "id": "2398a3d9-a5d8-4577-937b-afe86270be9e",
   "metadata": {},
   "outputs": [
    {
     "data": {
      "text/plain": [
       "1"
      ]
     },
     "execution_count": 4,
     "metadata": {},
     "output_type": "execute_result"
    }
   ],
   "source": [
    "#python 내장함수\n",
    "#A\n",
    "abs(-1)\n",
    "aiter()\n",
    "all()\n",
    "anext()\n",
    "any()\n",
    "ascii()\n",
    "#B\n",
    "bin()\n",
    "bool()\n",
    "breakpoint()\n",
    "bytearray()\n",
    "bytes()\n",
    "#C\n",
    "callable()\n",
    "chr()\n",
    "classmethod()\n",
    "compile()\n",
    "complex()\n",
    "#D\n",
    "delattr()\n",
    "dict()\n",
    "dir()\n",
    "divmod()\n",
    "#E\n",
    "enumerate()\n",
    "eval()\n",
    "exec()\n",
    "#F\n",
    "filter()\n",
    "float()\n",
    "format()\n",
    "frozenset()\n",
    "#G\n",
    "getattr()\n",
    "globals()\n",
    "#H\n",
    "hasattr()\n",
    "hash()\n",
    "help()\n",
    "hex()\n",
    "#I\n",
    "id()\n",
    "input()\n",
    "int()\n",
    "isinstance()\n",
    "issubclass()\n",
    "iter()\n",
    "#L\n",
    "len()\n",
    "list()\n",
    "locals()\n",
    "#M\n",
    "map()\n",
    "max()\n",
    "memoryview()\n",
    "min()\n",
    "#N\n",
    "next()\n",
    "#O\n",
    "object()\n",
    "oct()\n",
    "open()\n",
    "ord()\n",
    "#P\n",
    "pow()\n",
    "print()\n",
    "property()\n",
    "#R\n",
    "range()\n",
    "repr()\n",
    "reversed()\n",
    "round()\n",
    "#S\n",
    "set()\n",
    "setattr()\n",
    "slice()\n",
    "sorted()\n",
    "staticmethod()\n",
    "str()\n",
    "sum()\n",
    "super()\n",
    "#T\n",
    "tuple()\n",
    "type()\n",
    "#V\n",
    "vars()\n",
    "#Z\n",
    "zip()\n",
    "#_\n",
    "__import__()"
   ]
  },
  {
   "cell_type": "code",
   "execution_count": null,
   "id": "87bf22b7-58a3-4294-87e4-b945c1a0420d",
   "metadata": {},
   "outputs": [],
   "source": []
  }
 ],
 "metadata": {
  "kernelspec": {
   "display_name": "Python 3 (ipykernel)",
   "language": "python",
   "name": "python3"
  },
  "language_info": {
   "codemirror_mode": {
    "name": "ipython",
    "version": 3
   },
   "file_extension": ".py",
   "mimetype": "text/x-python",
   "name": "python",
   "nbconvert_exporter": "python",
   "pygments_lexer": "ipython3",
   "version": "3.11.7"
  }
 },
 "nbformat": 4,
 "nbformat_minor": 5
}
